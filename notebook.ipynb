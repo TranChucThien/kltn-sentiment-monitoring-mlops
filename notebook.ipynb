{
  "nbformat": 4,
  "nbformat_minor": 0,
  "metadata": {
    "colab": {
      "provenance": []
    },
    "kernelspec": {
      "name": "python3",
      "display_name": "Python 3"
    },
    "language_info": {
      "name": "python"
    },
    "widgets": {
      "application/vnd.jupyter.widget-state+json": {
        "880f1e838f9340f09a347d38c108452d": {
          "model_module": "@jupyter-widgets/controls",
          "model_name": "HBoxModel",
          "model_module_version": "1.5.0",
          "state": {
            "_dom_classes": [],
            "_model_module": "@jupyter-widgets/controls",
            "_model_module_version": "1.5.0",
            "_model_name": "HBoxModel",
            "_view_count": null,
            "_view_module": "@jupyter-widgets/controls",
            "_view_module_version": "1.5.0",
            "_view_name": "HBoxView",
            "box_style": "",
            "children": [
              "IPY_MODEL_b198d6d98c9b4857a29a4f714c6cde65",
              "IPY_MODEL_7784363ece96429491b4f97bc3ffd23c",
              "IPY_MODEL_6e19414b089e425281050861d2f060ec"
            ],
            "layout": "IPY_MODEL_6e05bdaf60e44f4da2fa64cb00659bb6"
          }
        },
        "b198d6d98c9b4857a29a4f714c6cde65": {
          "model_module": "@jupyter-widgets/controls",
          "model_name": "HTMLModel",
          "model_module_version": "1.5.0",
          "state": {
            "_dom_classes": [],
            "_model_module": "@jupyter-widgets/controls",
            "_model_module_version": "1.5.0",
            "_model_name": "HTMLModel",
            "_view_count": null,
            "_view_module": "@jupyter-widgets/controls",
            "_view_module_version": "1.5.0",
            "_view_name": "HTMLView",
            "description": "",
            "description_tooltip": null,
            "layout": "IPY_MODEL_a8a3e8f6fea94653bcab0b2bafa8dac2",
            "placeholder": "​",
            "style": "IPY_MODEL_9fb6bfe36e8b4847bcc67f7528a16a03",
            "value": "Downloading artifacts: 100%"
          }
        },
        "7784363ece96429491b4f97bc3ffd23c": {
          "model_module": "@jupyter-widgets/controls",
          "model_name": "FloatProgressModel",
          "model_module_version": "1.5.0",
          "state": {
            "_dom_classes": [],
            "_model_module": "@jupyter-widgets/controls",
            "_model_module_version": "1.5.0",
            "_model_name": "FloatProgressModel",
            "_view_count": null,
            "_view_module": "@jupyter-widgets/controls",
            "_view_module_version": "1.5.0",
            "_view_name": "ProgressView",
            "bar_style": "success",
            "description": "",
            "description_tooltip": null,
            "layout": "IPY_MODEL_e6a2f0815ff347b9a39661a8bb6097b7",
            "max": 32,
            "min": 0,
            "orientation": "horizontal",
            "style": "IPY_MODEL_5d7eabc863a3453294e3aac0a5bf03cf",
            "value": 32
          }
        },
        "6e19414b089e425281050861d2f060ec": {
          "model_module": "@jupyter-widgets/controls",
          "model_name": "HTMLModel",
          "model_module_version": "1.5.0",
          "state": {
            "_dom_classes": [],
            "_model_module": "@jupyter-widgets/controls",
            "_model_module_version": "1.5.0",
            "_model_name": "HTMLModel",
            "_view_count": null,
            "_view_module": "@jupyter-widgets/controls",
            "_view_module_version": "1.5.0",
            "_view_name": "HTMLView",
            "description": "",
            "description_tooltip": null,
            "layout": "IPY_MODEL_99a2f489a60b483b940076b7a58f754e",
            "placeholder": "​",
            "style": "IPY_MODEL_7f00942a80ef4a58a4c310d09670bb26",
            "value": " 32/32 [00:04&lt;00:00,  6.29it/s]"
          }
        },
        "6e05bdaf60e44f4da2fa64cb00659bb6": {
          "model_module": "@jupyter-widgets/base",
          "model_name": "LayoutModel",
          "model_module_version": "1.2.0",
          "state": {
            "_model_module": "@jupyter-widgets/base",
            "_model_module_version": "1.2.0",
            "_model_name": "LayoutModel",
            "_view_count": null,
            "_view_module": "@jupyter-widgets/base",
            "_view_module_version": "1.2.0",
            "_view_name": "LayoutView",
            "align_content": null,
            "align_items": null,
            "align_self": null,
            "border": null,
            "bottom": null,
            "display": null,
            "flex": null,
            "flex_flow": null,
            "grid_area": null,
            "grid_auto_columns": null,
            "grid_auto_flow": null,
            "grid_auto_rows": null,
            "grid_column": null,
            "grid_gap": null,
            "grid_row": null,
            "grid_template_areas": null,
            "grid_template_columns": null,
            "grid_template_rows": null,
            "height": null,
            "justify_content": null,
            "justify_items": null,
            "left": null,
            "margin": null,
            "max_height": null,
            "max_width": null,
            "min_height": null,
            "min_width": null,
            "object_fit": null,
            "object_position": null,
            "order": null,
            "overflow": null,
            "overflow_x": null,
            "overflow_y": null,
            "padding": null,
            "right": null,
            "top": null,
            "visibility": null,
            "width": null
          }
        },
        "a8a3e8f6fea94653bcab0b2bafa8dac2": {
          "model_module": "@jupyter-widgets/base",
          "model_name": "LayoutModel",
          "model_module_version": "1.2.0",
          "state": {
            "_model_module": "@jupyter-widgets/base",
            "_model_module_version": "1.2.0",
            "_model_name": "LayoutModel",
            "_view_count": null,
            "_view_module": "@jupyter-widgets/base",
            "_view_module_version": "1.2.0",
            "_view_name": "LayoutView",
            "align_content": null,
            "align_items": null,
            "align_self": null,
            "border": null,
            "bottom": null,
            "display": null,
            "flex": null,
            "flex_flow": null,
            "grid_area": null,
            "grid_auto_columns": null,
            "grid_auto_flow": null,
            "grid_auto_rows": null,
            "grid_column": null,
            "grid_gap": null,
            "grid_row": null,
            "grid_template_areas": null,
            "grid_template_columns": null,
            "grid_template_rows": null,
            "height": null,
            "justify_content": null,
            "justify_items": null,
            "left": null,
            "margin": null,
            "max_height": null,
            "max_width": null,
            "min_height": null,
            "min_width": null,
            "object_fit": null,
            "object_position": null,
            "order": null,
            "overflow": null,
            "overflow_x": null,
            "overflow_y": null,
            "padding": null,
            "right": null,
            "top": null,
            "visibility": null,
            "width": null
          }
        },
        "9fb6bfe36e8b4847bcc67f7528a16a03": {
          "model_module": "@jupyter-widgets/controls",
          "model_name": "DescriptionStyleModel",
          "model_module_version": "1.5.0",
          "state": {
            "_model_module": "@jupyter-widgets/controls",
            "_model_module_version": "1.5.0",
            "_model_name": "DescriptionStyleModel",
            "_view_count": null,
            "_view_module": "@jupyter-widgets/base",
            "_view_module_version": "1.2.0",
            "_view_name": "StyleView",
            "description_width": ""
          }
        },
        "e6a2f0815ff347b9a39661a8bb6097b7": {
          "model_module": "@jupyter-widgets/base",
          "model_name": "LayoutModel",
          "model_module_version": "1.2.0",
          "state": {
            "_model_module": "@jupyter-widgets/base",
            "_model_module_version": "1.2.0",
            "_model_name": "LayoutModel",
            "_view_count": null,
            "_view_module": "@jupyter-widgets/base",
            "_view_module_version": "1.2.0",
            "_view_name": "LayoutView",
            "align_content": null,
            "align_items": null,
            "align_self": null,
            "border": null,
            "bottom": null,
            "display": null,
            "flex": null,
            "flex_flow": null,
            "grid_area": null,
            "grid_auto_columns": null,
            "grid_auto_flow": null,
            "grid_auto_rows": null,
            "grid_column": null,
            "grid_gap": null,
            "grid_row": null,
            "grid_template_areas": null,
            "grid_template_columns": null,
            "grid_template_rows": null,
            "height": null,
            "justify_content": null,
            "justify_items": null,
            "left": null,
            "margin": null,
            "max_height": null,
            "max_width": null,
            "min_height": null,
            "min_width": null,
            "object_fit": null,
            "object_position": null,
            "order": null,
            "overflow": null,
            "overflow_x": null,
            "overflow_y": null,
            "padding": null,
            "right": null,
            "top": null,
            "visibility": null,
            "width": null
          }
        },
        "5d7eabc863a3453294e3aac0a5bf03cf": {
          "model_module": "@jupyter-widgets/controls",
          "model_name": "ProgressStyleModel",
          "model_module_version": "1.5.0",
          "state": {
            "_model_module": "@jupyter-widgets/controls",
            "_model_module_version": "1.5.0",
            "_model_name": "ProgressStyleModel",
            "_view_count": null,
            "_view_module": "@jupyter-widgets/base",
            "_view_module_version": "1.2.0",
            "_view_name": "StyleView",
            "bar_color": null,
            "description_width": ""
          }
        },
        "99a2f489a60b483b940076b7a58f754e": {
          "model_module": "@jupyter-widgets/base",
          "model_name": "LayoutModel",
          "model_module_version": "1.2.0",
          "state": {
            "_model_module": "@jupyter-widgets/base",
            "_model_module_version": "1.2.0",
            "_model_name": "LayoutModel",
            "_view_count": null,
            "_view_module": "@jupyter-widgets/base",
            "_view_module_version": "1.2.0",
            "_view_name": "LayoutView",
            "align_content": null,
            "align_items": null,
            "align_self": null,
            "border": null,
            "bottom": null,
            "display": null,
            "flex": null,
            "flex_flow": null,
            "grid_area": null,
            "grid_auto_columns": null,
            "grid_auto_flow": null,
            "grid_auto_rows": null,
            "grid_column": null,
            "grid_gap": null,
            "grid_row": null,
            "grid_template_areas": null,
            "grid_template_columns": null,
            "grid_template_rows": null,
            "height": null,
            "justify_content": null,
            "justify_items": null,
            "left": null,
            "margin": null,
            "max_height": null,
            "max_width": null,
            "min_height": null,
            "min_width": null,
            "object_fit": null,
            "object_position": null,
            "order": null,
            "overflow": null,
            "overflow_x": null,
            "overflow_y": null,
            "padding": null,
            "right": null,
            "top": null,
            "visibility": null,
            "width": null
          }
        },
        "7f00942a80ef4a58a4c310d09670bb26": {
          "model_module": "@jupyter-widgets/controls",
          "model_name": "DescriptionStyleModel",
          "model_module_version": "1.5.0",
          "state": {
            "_model_module": "@jupyter-widgets/controls",
            "_model_module_version": "1.5.0",
            "_model_name": "DescriptionStyleModel",
            "_view_count": null,
            "_view_module": "@jupyter-widgets/base",
            "_view_module_version": "1.2.0",
            "_view_name": "StyleView",
            "description_width": ""
          }
        }
      }
    }
  },
  "cells": [
    {
      "cell_type": "code",
      "execution_count": null,
      "metadata": {
        "colab": {
          "base_uri": "https://localhost:8080/"
        },
        "id": "iO3Jnvm1ohxh",
        "outputId": "7aba13e7-b29e-4a9c-dbef-9a9c180ac72e"
      },
      "outputs": [
        {
          "output_type": "stream",
          "name": "stdout",
          "text": [
            "Collecting findspark\n",
            "  Downloading findspark-2.0.1-py2.py3-none-any.whl.metadata (352 bytes)\n",
            "Downloading findspark-2.0.1-py2.py3-none-any.whl (4.4 kB)\n",
            "Installing collected packages: findspark\n",
            "Successfully installed findspark-2.0.1\n",
            "\u001b[2K   \u001b[90m━━━━━━━━━━━━━━━━━━━━━━━━━━━━━━━━━━━━━━━━\u001b[0m \u001b[32m260.1/260.1 kB\u001b[0m \u001b[31m7.9 MB/s\u001b[0m eta \u001b[36m0:00:00\u001b[0m\n",
            "\u001b[2K   \u001b[90m━━━━━━━━━━━━━━━━━━━━━━━━━━━━━━━━━━━━━━━━\u001b[0m \u001b[32m28.2/28.2 MB\u001b[0m \u001b[31m70.4 MB/s\u001b[0m eta \u001b[36m0:00:00\u001b[0m\n",
            "\u001b[2K   \u001b[90m━━━━━━━━━━━━━━━━━━━━━━━━━━━━━━━━━━━━━━━━\u001b[0m \u001b[32m6.1/6.1 MB\u001b[0m \u001b[31m106.6 MB/s\u001b[0m eta \u001b[36m0:00:00\u001b[0m\n",
            "\u001b[2K   \u001b[90m━━━━━━━━━━━━━━━━━━━━━━━━━━━━━━━━━━━━━━━━\u001b[0m \u001b[32m231.9/231.9 kB\u001b[0m \u001b[31m17.7 MB/s\u001b[0m eta \u001b[36m0:00:00\u001b[0m\n",
            "\u001b[2K   \u001b[90m━━━━━━━━━━━━━━━━━━━━━━━━━━━━━━━━━━━━━━━━\u001b[0m \u001b[32m147.8/147.8 kB\u001b[0m \u001b[31m11.7 MB/s\u001b[0m eta \u001b[36m0:00:00\u001b[0m\n",
            "\u001b[2K   \u001b[90m━━━━━━━━━━━━━━━━━━━━━━━━━━━━━━━━━━━━━━━━\u001b[0m \u001b[32m114.9/114.9 kB\u001b[0m \u001b[31m9.4 MB/s\u001b[0m eta \u001b[36m0:00:00\u001b[0m\n",
            "\u001b[2K   \u001b[90m━━━━━━━━━━━━━━━━━━━━━━━━━━━━━━━━━━━━━━━━\u001b[0m \u001b[32m85.0/85.0 kB\u001b[0m \u001b[31m6.9 MB/s\u001b[0m eta \u001b[36m0:00:00\u001b[0m\n",
            "\u001b[2K   \u001b[90m━━━━━━━━━━━━━━━━━━━━━━━━━━━━━━━━━━━━━━━━\u001b[0m \u001b[32m139.9/139.9 kB\u001b[0m \u001b[31m12.5 MB/s\u001b[0m eta \u001b[36m0:00:00\u001b[0m\n",
            "\u001b[2K   \u001b[90m━━━━━━━━━━━━━━━━━━━━━━━━━━━━━━━━━━━━━━━━\u001b[0m \u001b[32m13.5/13.5 MB\u001b[0m \u001b[31m100.5 MB/s\u001b[0m eta \u001b[36m0:00:00\u001b[0m\n",
            "\u001b[2K   \u001b[90m━━━━━━━━━━━━━━━━━━━━━━━━━━━━━━━━━━━━━━━━\u001b[0m \u001b[32m692.3/692.3 kB\u001b[0m \u001b[31m43.3 MB/s\u001b[0m eta \u001b[36m0:00:00\u001b[0m\n",
            "\u001b[2K   \u001b[90m━━━━━━━━━━━━━━━━━━━━━━━━━━━━━━━━━━━━━━━━\u001b[0m \u001b[32m95.2/95.2 kB\u001b[0m \u001b[31m8.6 MB/s\u001b[0m eta \u001b[36m0:00:00\u001b[0m\n",
            "\u001b[2K   \u001b[90m━━━━━━━━━━━━━━━━━━━━━━━━━━━━━━━━━━━━━━━━\u001b[0m \u001b[32m203.2/203.2 kB\u001b[0m \u001b[31m15.9 MB/s\u001b[0m eta \u001b[36m0:00:00\u001b[0m\n",
            "\u001b[2K   \u001b[90m━━━━━━━━━━━━━━━━━━━━━━━━━━━━━━━━━━━━━━━━\u001b[0m \u001b[32m50.9/50.9 kB\u001b[0m \u001b[31m4.1 MB/s\u001b[0m eta \u001b[36m0:00:00\u001b[0m\n",
            "\u001b[2K   \u001b[90m━━━━━━━━━━━━━━━━━━━━━━━━━━━━━━━━━━━━━━━━\u001b[0m \u001b[32m84.8/84.8 kB\u001b[0m \u001b[31m7.6 MB/s\u001b[0m eta \u001b[36m0:00:00\u001b[0m\n",
            "\u001b[2K   \u001b[90m━━━━━━━━━━━━━━━━━━━━━━━━━━━━━━━━━━━━━━━━\u001b[0m \u001b[32m62.5/62.5 kB\u001b[0m \u001b[31m5.5 MB/s\u001b[0m eta \u001b[36m0:00:00\u001b[0m\n",
            "\u001b[2K   \u001b[90m━━━━━━━━━━━━━━━━━━━━━━━━━━━━━━━━━━━━━━━━\u001b[0m \u001b[32m74.3/74.3 kB\u001b[0m \u001b[31m6.8 MB/s\u001b[0m eta \u001b[36m0:00:00\u001b[0m\n",
            "\u001b[2K   \u001b[90m━━━━━━━━━━━━━━━━━━━━━━━━━━━━━━━━━━━━━━━━\u001b[0m \u001b[32m72.0/72.0 kB\u001b[0m \u001b[31m5.8 MB/s\u001b[0m eta \u001b[36m0:00:00\u001b[0m\n",
            "\u001b[?25h"
          ]
        }
      ],
      "source": [
        "! pip install findspark\n",
        "! pip install -q dagshub mlflow\n"
      ]
    },
    {
      "cell_type": "code",
      "source": [
        "import re\n",
        "import pandas as pd\n",
        "import seaborn as sns\n",
        "import matplotlib.pyplot as plt\n",
        "import nltk\n",
        "import findspark\n",
        "findspark.init()\n",
        "from nltk.corpus import stopwords\n",
        "from pyspark.sql import SparkSession\n",
        "from pyspark.sql.functions import udf, pandas_udf,col, lower, regexp_replace, when, length, trim\n",
        "from pyspark.sql.types import StructType, StructField, IntegerType, StringType, ArrayType\n",
        "from pyspark.ml.feature import CountVectorizer, StringIndexer, Tokenizer, StopWordsRemover\n",
        "from pyspark.ml.classification import LogisticRegression, RandomForestClassifier, DecisionTreeClassifier\n",
        "from pyspark.ml.evaluation import MulticlassClassificationEvaluator\n",
        "from pyspark.mllib.evaluation import MulticlassMetrics\n",
        "from sklearn.metrics import confusion_matrix\n",
        "from pyspark.ml import PipelineModel, Pipeline, Transformer\n",
        "from pyspark.ml.param.shared import HasInputCol, HasOutputCol, Param\n",
        "from pyspark.ml.util import DefaultParamsWritable, DefaultParamsReadable\n",
        "from pyspark.ml.feature import Tokenizer, StopWordsRemover, HashingTF, IDF\n",
        "from pyspark.ml import Pipeline\n",
        "from pyspark.ml.feature import Tokenizer, StopWordsRemover, HashingTF, IDF\n",
        "from pyspark.ml.classification import LogisticRegression\n",
        "from pyspark.ml.evaluation import MulticlassClassificationEvaluator\n",
        "from pyspark.ml.evaluation import MulticlassClassificationEvaluator\n",
        "from sklearn.metrics import classification_report, confusion_matrix\n",
        "import matplotlib.pyplot as plt\n",
        "import seaborn as sns"
      ],
      "metadata": {
        "id": "cA4qMOI9oko1"
      },
      "execution_count": null,
      "outputs": []
    },
    {
      "cell_type": "code",
      "source": [
        "nltk.download('stopwords')\n",
        "nltk.download('punkt')\n",
        "\n",
        "# Define English stopwords\n",
        "stop_words = stopwords.words('english')"
      ],
      "metadata": {
        "colab": {
          "base_uri": "https://localhost:8080/"
        },
        "id": "guSOL7FIom-N",
        "outputId": "37e61143-fe07-43a0-ac28-815f04696c30"
      },
      "execution_count": null,
      "outputs": [
        {
          "output_type": "stream",
          "name": "stderr",
          "text": [
            "[nltk_data] Downloading package stopwords to /root/nltk_data...\n",
            "[nltk_data]   Unzipping corpora/stopwords.zip.\n",
            "[nltk_data] Downloading package punkt to /root/nltk_data...\n",
            "[nltk_data]   Unzipping tokenizers/punkt.zip.\n"
          ]
        }
      ]
    },
    {
      "cell_type": "code",
      "source": [
        "# Create a SparkSession\n",
        "spark = SparkSession.builder.appName(\"Text Classification with PySpark\").getOrCreate()"
      ],
      "metadata": {
        "id": "n4fXZXskozJ6"
      },
      "execution_count": null,
      "outputs": []
    },
    {
      "cell_type": "code",
      "source": [
        "#load data and split into train and test\n",
        "def clean_text(text):\n",
        "    text = re.sub(r'https?://\\S+|www\\.\\S+|\\.com\\S+|youtu\\.be/\\S+', '', text)\n",
        "    text = re.sub(r'(@|#)\\w+', '', text)\n",
        "    text = text.lower()\n",
        "    text = re.sub(r'[^a-zA-Z\\s]', '', text)\n",
        "    text = re.sub(r'\\s+', ' ', text).strip()\n",
        "    return text\n",
        "\n",
        "def clean_text_column(df, input_col=\"Text\", output_col=\"Text\"):\n",
        "    \"\"\"\n",
        "    Làm sạch văn bản trong cột DataFrame bằng các thao tác Spark native.\n",
        "\n",
        "    Args:\n",
        "        df (DataFrame): DataFrame đầu vào.\n",
        "        input_col (str): Tên cột chứa văn bản gốc.\n",
        "        output_col (str): Tên cột sẽ ghi văn bản đã làm sạch (có thể trùng input_col để ghi đè).\n",
        "\n",
        "    Returns:\n",
        "        DataFrame: DataFrame với cột văn bản đã được làm sạch.\n",
        "    \"\"\"\n",
        "    return (df.withColumn(output_col, regexp_replace(col(input_col), r'https?://\\S+|www\\.\\S+|\\.com\\S+|youtu\\.be/\\S+', ''))\n",
        "              .withColumn(output_col, regexp_replace(col(output_col), r'(@|#)\\w+', ''))\n",
        "              .withColumn(output_col, lower(col(output_col)))\n",
        "              .withColumn(output_col, regexp_replace(col(output_col), r'[^a-zA-Z\\s]', ''))\n",
        "              .withColumn(output_col, regexp_replace(col(output_col), r'\\s+', ' '))\n",
        "              )"
      ],
      "metadata": {
        "id": "-14Tvu4Xo3JZ"
      },
      "execution_count": null,
      "outputs": []
    },
    {
      "cell_type": "code",
      "source": [
        "#load data\n",
        "from google.colab import drive\n",
        "drive.mount('/content/drive')\n",
        "data = spark.read.csv('/content/drive/MyDrive/KLTN/twitter_training.csv', header=False, inferSchema=True)\n",
        "data.show(10)\n",
        "# Đổi tên các cột\n",
        "data = data.withColumnRenamed(\"_c0\", \"Product\")\n",
        "data = data.withColumnRenamed(\"_c1\", \"Label\")\n",
        "data = data.withColumnRenamed(\"_c2\", \"Text\")\n",
        "# data = data.toDF(\"Product\", \"Label\", \"Text\")\n",
        "data = data.rdd.zipWithIndex().filter(lambda row: row[1] != 0).map(lambda row: row[0]).toDF([\"Product\", \"Label\", \"Text\"])\n",
        "data.show(10)\n",
        "\n"
      ],
      "metadata": {
        "colab": {
          "base_uri": "https://localhost:8080/"
        },
        "id": "lW5pipPKo-Ki",
        "outputId": "b8a1ecec-77e8-4c11-f5f2-ab204f0964fd"
      },
      "execution_count": null,
      "outputs": [
        {
          "output_type": "stream",
          "name": "stdout",
          "text": [
            "Mounted at /content/drive\n",
            "+-----------+--------+--------------------+\n",
            "|        _c0|     _c1|                 _c2|\n",
            "+-----------+--------+--------------------+\n",
            "|    Product|   Label|                Text|\n",
            "|Borderlands|Positive|I am coming to th...|\n",
            "|Borderlands|Positive|im getting on bor...|\n",
            "|Borderlands|Positive|im coming on bord...|\n",
            "|Borderlands|Positive|im getting on bor...|\n",
            "|Borderlands|Positive|im getting into b...|\n",
            "|Borderlands|Positive|So I spent a few ...|\n",
            "|Borderlands|Positive|So I spent a coup...|\n",
            "|Borderlands|Positive|So I spent a few ...|\n",
            "|Borderlands|Positive|So I spent a few ...|\n",
            "+-----------+--------+--------------------+\n",
            "only showing top 10 rows\n",
            "\n",
            "+-----------+--------+--------------------+\n",
            "|    Product|   Label|                Text|\n",
            "+-----------+--------+--------------------+\n",
            "|Borderlands|Positive|I am coming to th...|\n",
            "|Borderlands|Positive|im getting on bor...|\n",
            "|Borderlands|Positive|im coming on bord...|\n",
            "|Borderlands|Positive|im getting on bor...|\n",
            "|Borderlands|Positive|im getting into b...|\n",
            "|Borderlands|Positive|So I spent a few ...|\n",
            "|Borderlands|Positive|So I spent a coup...|\n",
            "|Borderlands|Positive|So I spent a few ...|\n",
            "|Borderlands|Positive|So I spent a few ...|\n",
            "|Borderlands|Positive|2010 So I spent a...|\n",
            "+-----------+--------+--------------------+\n",
            "only showing top 10 rows\n",
            "\n"
          ]
        }
      ]
    },
    {
      "cell_type": "code",
      "source": [
        "#and prepare data\n",
        "data=data.dropna(subset=['Text'])\n",
        "data = clean_text_column(data, input_col=\"Text\", output_col=\"Text\")\n",
        "data = data.withColumn(\"Label\",\n",
        "            when(col(\"Label\") == \"Negative\", 0)\n",
        "          .when(col(\"Label\") == \"Positive\", 1)\n",
        "          .when(col(\"Label\") == \"Neutral\", 2)\n",
        "          .when(col(\"Label\") == \"Irrelevant\", 3)\n",
        "          .otherwise(None)  # fallback nếu có nhãn lạ\n",
        ")\n",
        "data.show(10)\n",
        "\n",
        "data = data.drop(\"Product\")\n",
        "data.show(10)\n",
        "data = data.filter(length(col(\"Text\")) > 0)\n",
        "data = data.filter(col(\"Label\").isNotNull())"
      ],
      "metadata": {
        "colab": {
          "base_uri": "https://localhost:8080/"
        },
        "id": "tM2Eb9-mqxJd",
        "outputId": "8c99acbf-41d8-409f-cf4a-da08db52849e"
      },
      "execution_count": null,
      "outputs": [
        {
          "output_type": "stream",
          "name": "stdout",
          "text": [
            "+-----------+-----+--------------------+\n",
            "|    Product|Label|                Text|\n",
            "+-----------+-----+--------------------+\n",
            "|Borderlands|    1|i am coming to th...|\n",
            "|Borderlands|    1|im getting on bor...|\n",
            "|Borderlands|    1|im coming on bord...|\n",
            "|Borderlands|    1|im getting on bor...|\n",
            "|Borderlands|    1|im getting into b...|\n",
            "|Borderlands|    1|so i spent a few ...|\n",
            "|Borderlands|    1|so i spent a coup...|\n",
            "|Borderlands|    1|so i spent a few ...|\n",
            "|Borderlands|    1|so i spent a few ...|\n",
            "|Borderlands|    1| so i spent a few...|\n",
            "+-----------+-----+--------------------+\n",
            "only showing top 10 rows\n",
            "\n",
            "+-----+--------------------+\n",
            "|Label|                Text|\n",
            "+-----+--------------------+\n",
            "|    1|i am coming to th...|\n",
            "|    1|im getting on bor...|\n",
            "|    1|im coming on bord...|\n",
            "|    1|im getting on bor...|\n",
            "|    1|im getting into b...|\n",
            "|    1|so i spent a few ...|\n",
            "|    1|so i spent a coup...|\n",
            "|    1|so i spent a few ...|\n",
            "|    1|so i spent a few ...|\n",
            "|    1| so i spent a few...|\n",
            "+-----+--------------------+\n",
            "only showing top 10 rows\n",
            "\n"
          ]
        }
      ]
    },
    {
      "cell_type": "code",
      "source": [
        "\n",
        "data = data.drop(\"Product\")\n",
        "data.show(10)"
      ],
      "metadata": {
        "colab": {
          "base_uri": "https://localhost:8080/"
        },
        "id": "7_QMwsU2pe4T",
        "outputId": "af493e7a-1913-4e51-c79b-2c26a07d787b"
      },
      "execution_count": null,
      "outputs": [
        {
          "output_type": "stream",
          "name": "stdout",
          "text": [
            "+-----+--------------------+\n",
            "|Label|                Text|\n",
            "+-----+--------------------+\n",
            "|    1|i am coming to th...|\n",
            "|    1|im getting on bor...|\n",
            "|    1|im coming on bord...|\n",
            "|    1|im getting on bor...|\n",
            "|    1|im getting into b...|\n",
            "|    1|so i spent a few ...|\n",
            "|    1|so i spent a coup...|\n",
            "|    1|so i spent a few ...|\n",
            "|    1|so i spent a few ...|\n",
            "|    1| so i spent a few...|\n",
            "+-----+--------------------+\n",
            "only showing top 10 rows\n",
            "\n"
          ]
        }
      ]
    },
    {
      "cell_type": "code",
      "source": [
        "#split into train and test\n",
        "data.show(5)\n",
        "# Split data into train and test\n",
        "train_data, test_data = data.randomSplit([0.8, 0.2], seed=42)\n",
        "data = data.filter(trim(col(\"Text\")) != \"\")\n",
        "# Lưu train_data và test_data thành các file CSV\n",
        "# Ghi đè file CSV nếu nó đã tồn tại\n",
        "train_data.write.option(\"header\", \"true\").mode(\"overwrite\").csv(\"/content/drive/MyDrive/KLTN/train_data.csv\")\n",
        "test_data.write.option(\"header\", \"true\").mode(\"overwrite\").csv(\"/content/drive/MyDrive/KLTN/test_data.csv\")\n"
      ],
      "metadata": {
        "colab": {
          "base_uri": "https://localhost:8080/"
        },
        "id": "jDNw_k4Rpga_",
        "outputId": "e417a4b9-4d5d-4cd9-e863-3847c7099efc"
      },
      "execution_count": null,
      "outputs": [
        {
          "output_type": "stream",
          "name": "stdout",
          "text": [
            "+-----+--------------------+\n",
            "|Label|                Text|\n",
            "+-----+--------------------+\n",
            "|    1|i am coming to th...|\n",
            "|    1|im getting on bor...|\n",
            "|    1|im coming on bord...|\n",
            "|    1|im getting on bor...|\n",
            "|    1|im getting into b...|\n",
            "+-----+--------------------+\n",
            "only showing top 5 rows\n",
            "\n"
          ]
        }
      ]
    },
    {
      "cell_type": "code",
      "source": [
        "import mlflow\n",
        "import os\n",
        "\n",
        "os.environ['MLFLOW_TRACKING_URI']=\"https://dagshub.com/TranChucThien/kltn.mlflow\"\n",
        "os.environ['MLFLOW_TRACKING_USERNAME']=\"TranChucThien\"\n",
        "os.environ[\"MLFLOW_TRACKING_PASSWORD\"]=\"fc6e085ac3b8abf78e838bec58a25872e3db8679\""
      ],
      "metadata": {
        "id": "1n8aNjvebgbx"
      },
      "execution_count": null,
      "outputs": []
    },
    {
      "cell_type": "code",
      "source": [
        "\n",
        "# Bước 1: Tách từ\n",
        "tokenizer = Tokenizer(inputCol=\"Text\", outputCol=\"words\")\n",
        "\n",
        "# Bước 2: Loại bỏ stopwords (sử dụng danh sách NLTK)\n",
        "remover = StopWordsRemover(inputCol=\"words\", outputCol=\"filtered_words\", stopWords=stop_words)\n",
        "\n",
        "# Bước 3: Vector hóa văn bản\n",
        "vectorizer = CountVectorizer(inputCol=\"filtered_words\", outputCol=\"features\")\n",
        "\n",
        "# Bước 4: Logistic Regression\n",
        "lr = LogisticRegression(featuresCol=\"features\", labelCol=\"Label\", maxIter=20)\n",
        "\n",
        "# Bước 5: Pipeline\n",
        "pipeline = Pipeline(stages=[tokenizer, remover, vectorizer, lr])\n",
        "# Huấn luyện mô hình\n",
        "model1 = pipeline.fit(train_data)\n",
        "# Lưu mô hình\n",
        "model1.write().overwrite().save(\"/content/drive/MyDrive/KLTN/models/logistic_regression_model_count_vector\")\n",
        "\n",
        "mlflow.set_tracking_uri(\"https://dagshub.com/TranChucThien/kltn.mlflow\")\n",
        "with mlflow.start_run(run_name=\"LogisticRegression_IDF_TF_Model\") as run:\n",
        "  # signature=infer_signature(X_train,y_train)\n",
        "  mlflow.spark.log_model(model1, artifact_path=\"spark-model\")\n",
        "  model_uri = f\"runs:/{run.info.run_id}/spark-model\"\n",
        "  registered_model = mlflow.register_model(model_uri=model_uri, name=\"LogisticRegression_TFIDF_Model\")\n",
        "\n",
        "  # Ghi log tham số\n",
        "  mlflow.log_param(\"maxIter\", 20)\n",
        "  mlflow.log_param(\"numFeatures\", 10000)\n",
        "\n"
      ],
      "metadata": {
        "id": "jhzAEK8j56hC",
        "colab": {
          "base_uri": "https://localhost:8080/"
        },
        "outputId": "10666fbc-ea91-482e-9b6a-4cc78f66b6ba"
      },
      "execution_count": null,
      "outputs": [
        {
          "output_type": "stream",
          "name": "stderr",
          "text": [
            "\u001b[31m2025/04/22 10:43:36 WARNING mlflow.models.model: Model logged without a signature and input example. Please set `input_example` parameter when logging the model to auto infer the model signature.\u001b[0m\n",
            "Registered model 'LogisticRegression_TFIDF_Model' already exists. Creating a new version of this model...\n",
            "2025/04/22 10:44:06 INFO mlflow.store.model_registry.abstract_store: Waiting up to 300 seconds for model version to finish creation. Model name: LogisticRegression_TFIDF_Model, version 2\n",
            "Created version '2' of model 'LogisticRegression_TFIDF_Model'.\n"
          ]
        },
        {
          "output_type": "stream",
          "name": "stdout",
          "text": [
            "🏃 View run LogisticRegression_IDF_TF_Model at: https://dagshub.com/TranChucThien/kltn.mlflow/#/experiments/0/runs/da8147c3e0b2429cb939bf364db46265\n",
            "🧪 View experiment at: https://dagshub.com/TranChucThien/kltn.mlflow/#/experiments/0\n"
          ]
        }
      ]
    },
    {
      "cell_type": "code",
      "source": [],
      "metadata": {
        "id": "QfwE8aEWF5FX"
      },
      "execution_count": null,
      "outputs": []
    },
    {
      "cell_type": "code",
      "source": [],
      "metadata": {
        "id": "Le5o1Nl_qMu6"
      },
      "execution_count": null,
      "outputs": []
    },
    {
      "cell_type": "code",
      "source": [
        "# Bước 1: Tách từ\n",
        "tokenizer = Tokenizer(inputCol=\"Text\", outputCol=\"Words\")\n",
        "\n",
        "# Bước 2: Loại bỏ stopwords (sử dụng danh sách NLTK)\n",
        "remover = StopWordsRemover(inputCol=\"Words\", outputCol=\"FilteredWords\", stopWords=stop_words)\n",
        "\n",
        "# Bước 3: HashingTF để vector hóa\n",
        "hashingTF = HashingTF(inputCol=\"FilteredWords\", outputCol=\"RawFeatures\", numFeatures=10000)\n",
        "\n",
        "# Bước 4: Chuẩn hóa với IDF\n",
        "idf = IDF(inputCol=\"RawFeatures\", outputCol=\"features\")\n",
        "\n",
        "# Bước 5: Logistic Regression\n",
        "lr = LogisticRegression(featuresCol=\"features\", labelCol=\"Label\", maxIter=20)\n",
        "\n",
        "# Tạo pipeline\n",
        "pipeline = Pipeline(stages=[tokenizer, remover, hashingTF, idf, lr])\n",
        "\n",
        "# Huấn luyện mô hình\n",
        "model2 = pipeline.fit(train_data)\n",
        "# Lưu mô hình, ghi đè nếu thư mục đã tồn tại\n",
        "model2.write().overwrite().save(\"/content/drive/MyDrive/KLTN/models/logistic_regression_model_idftf\")\n"
      ],
      "metadata": {
        "id": "9yFNQWYK6q8v"
      },
      "execution_count": null,
      "outputs": []
    },
    {
      "cell_type": "code",
      "source": [
        "# Dự đoán trên tập test\n",
        "prediction1 = model1.transform(test_data)\n",
        "prediction2 = model2.transform(test_data)\n",
        "\n",
        "# # Hiển thị kết quả mẫu\n",
        "prediction2.select(\"Text\", \"Label\", \"prediction\", \"probability\").show(10, truncate=False)"
      ],
      "metadata": {
        "id": "6kEEefX-7E6M",
        "colab": {
          "base_uri": "https://localhost:8080/"
        },
        "outputId": "89e4b25b-9f5a-4acf-bdc6-92e9094c501d"
      },
      "execution_count": null,
      "outputs": [
        {
          "output_type": "stream",
          "name": "stdout",
          "text": [
            "+-------------------------------------------------------------------------------------------------------------------------------------------------------------------------------------------------------------------------------------------------------------------------------------------------------+-----+----------+--------------------------------------------------------------------------------------+\n",
            "|Text                                                                                                                                                                                                                                                                                                   |Label|prediction|probability                                                                           |\n",
            "+-------------------------------------------------------------------------------------------------------------------------------------------------------------------------------------------------------------------------------------------------------------------------------------------------------+-----+----------+--------------------------------------------------------------------------------------+\n",
            "|                                                                                                                                                                                                                                                                                                       |0    |1.0       |[0.3061545133484991,0.3203572970340708,0.22334307653514923,0.15014511308228098]       |\n",
            "|                                                                                                                                                                                                                                                                                                       |0    |1.0       |[0.3061545133484991,0.3203572970340708,0.22334307653514923,0.15014511308228098]       |\n",
            "|                                                                                                                                                                                                                                                                                                       |0    |1.0       |[0.3061545133484991,0.3203572970340708,0.22334307653514923,0.15014511308228098]       |\n",
            "|                                                                                                                                                                                                                                                                                                       |0    |1.0       |[0.3061545133484991,0.3203572970340708,0.22334307653514923,0.15014511308228098]       |\n",
            "|                                                                                                                                                                                                                                                                                                       |0    |1.0       |[0.3061545133484991,0.3203572970340708,0.22334307653514923,0.15014511308228098]       |\n",
            "|                                                                                                                                                                                                                                                                                                       |0    |1.0       |[0.3061545133484991,0.3203572970340708,0.22334307653514923,0.15014511308228098]       |\n",
            "|                                                                                                                                                                                                                                                                                                       |0    |1.0       |[0.3061545133484991,0.3203572970340708,0.22334307653514923,0.15014511308228098]       |\n",
            "|                                                                                                                                                                                                                                                                                                       |0    |1.0       |[0.3061545133484991,0.3203572970340708,0.22334307653514923,0.15014511308228098]       |\n",
            "| a bc i still be getting my damn vc and g day you only owe me about k from doing them shits                                                                                                                                                                                                            |0    |0.0       |[0.992052090981498,0.0014707556414933537,0.006235960463919695,2.4119291308876754E-4]  |\n",
            "| a dlbn court refuses to dismiss lawsuit against at home depot an s k plan plaintiffs to assert hd chose poorly and performing funds charged employees unreasonable fees turned a blind third eye due to an outstanding alleged government kickback scheme alnorman planadviser dot com home depot eri |0    |0.0       |[0.9999985020618006,1.4941194976559537E-6,2.1864139801267597E-9,1.6322878504654548E-9]|\n",
            "+-------------------------------------------------------------------------------------------------------------------------------------------------------------------------------------------------------------------------------------------------------------------------------------------------------+-----+----------+--------------------------------------------------------------------------------------+\n",
            "only showing top 10 rows\n",
            "\n"
          ]
        }
      ]
    },
    {
      "cell_type": "code",
      "source": [
        "# Đánh giá độ chính xác\n",
        "evaluator = MulticlassClassificationEvaluator(labelCol=\"Label\", predictionCol=\"prediction\", metricName=\"accuracy\")\n",
        "\n",
        "# accuracy = evaluator.evaluate(predictions, {evaluator.metricName: \"accuracy\"})\n",
        "# precision = evaluator.evaluate(predictions, {evaluator.metricName: \"weightedPrecision\"})\n",
        "# recall = evaluator.evaluate(predictions, {evaluator.metricName: \"weightedRecall\"})\n",
        "# f1 = evaluator.evaluate(predictions, {evaluator.metricName: \"f1\"})\n",
        "\n",
        "# print(f\"Accuracy:  {accuracy:.4f}\")\n",
        "# print(f\"Precision: {precision:.4f}\")\n",
        "# print(f\"Recall:    {recall:.4f}\")\n",
        "# print(f\"F1-score:  {f1:.4f}\")\n",
        "def evaluate_model(predictions):\n",
        "    evaluator = MulticlassClassificationEvaluator(labelCol=\"Label\", predictionCol=\"prediction\")\n",
        "    accuracy = evaluator.evaluate(predictions, {evaluator.metricName: \"accuracy\"})\n",
        "    precision = evaluator.evaluate(predictions, {evaluator.metricName: \"weightedPrecision\"})\n",
        "    recall = evaluator.evaluate(predictions, {evaluator.metricName: \"weightedRecall\"})\n",
        "    f1 = evaluator.evaluate(predictions, {evaluator.metricName: \"f1\"})\n",
        "\n",
        "    print(f\"Accuracy:  {accuracy:.4f}\")\n",
        "    print(f\"Precision: {precision:.4f}\")\n",
        "    print(f\"Recall:    {recall:.4f}\")\n",
        "    print(f\"F1-score:  {f1:.4f}\")\n",
        "evaluate_model(prediction1)\n",
        "evaluate_model(prediction2)"
      ],
      "metadata": {
        "colab": {
          "base_uri": "https://localhost:8080/"
        },
        "id": "H4DFqIgS7GOs",
        "outputId": "0d3ff026-2f28-42b3-c63c-b5139be46086"
      },
      "execution_count": null,
      "outputs": [
        {
          "output_type": "stream",
          "name": "stdout",
          "text": [
            "Accuracy:  0.8251\n",
            "Precision: 0.8259\n",
            "Recall:    0.8251\n",
            "F1-score:  0.8250\n",
            "Accuracy:  0.8251\n",
            "Precision: 0.8259\n",
            "Recall:    0.8251\n",
            "F1-score:  0.8250\n",
            "Accuracy:  0.7216\n",
            "Precision: 0.7215\n",
            "Recall:    0.7216\n",
            "F1-score:  0.7213\n"
          ]
        }
      ]
    },
    {
      "cell_type": "code",
      "source": [
        "loaded_model = PipelineModel.load(\"/content/drive/MyDrive/KLTN/logistic_regression_model\")\n",
        "# Dự đoán với test_data dùng mô hình đã load\n",
        "predictions = loaded_model.transform(test_data)\n",
        "# Đánh giá với evaluator của Spark\n",
        "evaluator = MulticlassClassificationEvaluator(labelCol=\"Label\", predictionCol=\"prediction\")\n",
        "accuracy = evaluator.evaluate(predictions, {evaluator.metricName: \"accuracy\"})\n",
        "precision = evaluator.evaluate(predictions, {evaluator.metricName: \"weightedPrecision\"})\n",
        "recall = evaluator.evaluate(predictions, {evaluator.metricName: \"weightedRecall\"})\n",
        "f1 = evaluator.evaluate(predictions, {evaluator.metricName: \"f1\"})\n",
        "\n",
        "print(f\"Accuracy:  {accuracy:.4f}\")\n",
        "print(f\"Precision: {precision:.4f}\")\n",
        "print(f\"Recall:    {recall:.4f}\")\n",
        "print(f\"F1-score:  {f1:.4f}\")\n",
        "\n",
        "# Dùng sklearn để vẽ confusion matrix\n",
        "y_true = predictions.select(\"Label\").toPandas()\n",
        "y_pred = predictions.select(\"prediction\").toPandas()\n",
        "\n",
        "print(\"\\nClassification Report:\")\n",
        "print(classification_report(y_true, y_pred, digits=4))\n",
        "\n",
        "cm = confusion_matrix(y_true, y_pred)\n",
        "plt.figure(figsize=(6,5))\n",
        "sns.heatmap(cm, annot=True, fmt='d', cmap='Blues',\n",
        "            xticklabels=[\"Neg\", \"Pos\", \"Neu\", \"Irr\"],\n",
        "            yticklabels=[\"Neg\", \"Pos\", \"Neu\", \"Irr\"])\n",
        "plt.xlabel(\"Predicted\")\n",
        "plt.ylabel(\"Actual\")\n",
        "plt.title(\"Confusion Matrix\")\n",
        "plt.show()"
      ],
      "metadata": {
        "colab": {
          "base_uri": "https://localhost:8080/",
          "height": 782
        },
        "id": "0G1zm7VP9D-Y",
        "outputId": "b797bca4-3b4a-46b3-e111-e6047a42c80b"
      },
      "execution_count": null,
      "outputs": [
        {
          "output_type": "stream",
          "name": "stdout",
          "text": [
            "Accuracy:  0.9206\n",
            "Precision: 0.9220\n",
            "Recall:    0.9206\n",
            "F1-score:  0.9208\n",
            "\n",
            "Classification Report:\n",
            "              precision    recall  f1-score   support\n",
            "\n",
            "           0     0.9367    0.9248    0.9307      4386\n",
            "           1     0.8746    0.9406    0.9064      4139\n",
            "           2     0.9443    0.9121    0.9279      3606\n",
            "           3     0.9415    0.8939    0.9171      2630\n",
            "\n",
            "    accuracy                         0.9206     14761\n",
            "   macro avg     0.9243    0.9178    0.9205     14761\n",
            "weighted avg     0.9220    0.9206    0.9208     14761\n",
            "\n"
          ]
        },
        {
          "output_type": "display_data",
          "data": {
            "text/plain": [
              "<Figure size 600x500 with 2 Axes>"
            ],
            "image/png": "[encoded data removed]"
          },
          "metadata": {}
        }
      ]
    },
    {
      "cell_type": "code",
      "source": [
        "from pyspark.sql import Row\n",
        "from pyspark.sql.functions import when, col\n",
        "import pandas as pd\n",
        "\n",
        "# 1. Tạo DataFrame Spark từ 5 đoạn văn bản mới\n",
        "new_texts = [\n",
        "    \"I absolutely love this phone! The camera is amazing and the battery lasts all day.\",\n",
        "    \"The customer service from this brand is terrible. My issue has not been resolved for weeks.\",\n",
        "    \"This laptop is solid and reliable, but it's a bit expensive for the performance it offers.\",\n",
        "    \"I had a terrible experience with this brand. Their products broke down after just a few months.\",\n",
        "    \"The quality of the shoes from this brand has improved significantly. They are comfortable and durable.\"\n",
        "]\n",
        "\n",
        "# 2. Tải mô hình đã huấn luyện\n",
        "loaded_model = PipelineModel.load(\"/content/drive/MyDrive/KLTN/logistic_regression_model\")\n",
        "\n",
        "# Tạo DataFrame từ danh sách văn bản mới\n",
        "new_data = [Row(Text=text) for text in new_texts]\n",
        "new_df = spark.createDataFrame(new_data)\n",
        "\n",
        "# 3. Dự đoán với mô hình đã tải\n",
        "predictions_new = loaded_model.transform(new_df)\n",
        "\n",
        "# 4. Ánh xạ các nhãn prediction thành các giá trị tương ứng\n",
        "predictions_new_mapped = predictions_new.withColumn(\n",
        "    \"Label\",\n",
        "    when(col(\"prediction\") == 0, \"Negative\")\n",
        "    .when(col(\"prediction\") == 1, \"Positive\")\n",
        "    .when(col(\"prediction\") == 2, \"Neutral\")\n",
        "    .when(col(\"prediction\") == 3, \"Irrelevant\")\n",
        "    .otherwise(\"Unknown\")  # fallback nếu có nhãn lạ\n",
        ")\n",
        "\n",
        "# 5. Hiển thị kết quả dự đoán với nhãn ánh xạ\n",
        "predictions_new_mapped.select(\"Text\", \"prediction\", \"Label\").show(truncate=False)\n",
        "\n",
        "# Nếu bạn muốn lưu lại các dự đoán vào DataFrame và sử dụng sau này:\n",
        "predictions_df = predictions_new_mapped.select(\"Text\", \"prediction\", \"Label\").toPandas()\n",
        "print(predictions_df)\n"
      ],
      "metadata": {
        "colab": {
          "base_uri": "https://localhost:8080/"
        },
        "id": "LnAlbVhaofvJ",
        "outputId": "12b495bc-c15c-40ff-9fbc-2e9c083c675d"
      },
      "execution_count": null,
      "outputs": [
        {
          "output_type": "stream",
          "name": "stdout",
          "text": [
            "+------------------------------------------------------------------------------------------------------+----------+--------+\n",
            "|Text                                                                                                  |prediction|Label   |\n",
            "+------------------------------------------------------------------------------------------------------+----------+--------+\n",
            "|I absolutely love this phone! The camera is amazing and the battery lasts all day.                    |1.0       |Positive|\n",
            "|The customer service from this brand is terrible. My issue has not been resolved for weeks.           |0.0       |Negative|\n",
            "|This laptop is solid and reliable, but it's a bit expensive for the performance it offers.            |0.0       |Negative|\n",
            "|I had a terrible experience with this brand. Their products broke down after just a few months.       |0.0       |Negative|\n",
            "|The quality of the shoes from this brand has improved significantly. They are comfortable and durable.|2.0       |Neutral |\n",
            "+------------------------------------------------------------------------------------------------------+----------+--------+\n",
            "\n",
            "                                                Text  prediction     Label\n",
            "0  I absolutely love this phone! The camera is am...         1.0  Positive\n",
            "1  The customer service from this brand is terrib...         0.0  Negative\n",
            "2  This laptop is solid and reliable, but it's a ...         0.0  Negative\n",
            "3  I had a terrible experience with this brand. T...         0.0  Negative\n",
            "4  The quality of the shoes from this brand has i...         2.0   Neutral\n"
          ]
        }
      ]
    },
    {
      "cell_type": "code",
      "source": [
        "import mlflow\n",
        "import mlflow.spark\n",
        "from pyspark.sql import SparkSession\n",
        "from pyspark.sql.functions import col\n",
        "\n",
        "# Khởi tạo SparkSession\n",
        "spark = SparkSession.builder \\\n",
        "    .appName(\"Test Spark Model\") \\\n",
        "    .getOrCreate()\n",
        "\n",
        "# Thiết lập URI của MLflow tại Dagshub\n",
        "mlflow.set_tracking_uri(\"https://dagshub.com/TranChucThien/kltn.mlflow\")\n",
        "\n",
        "# Tải mô hình đã đăng ký\n",
        "model_name = \"LogisticRegression_TFIDF_Model\"\n",
        "model_version = 1  # Thay đổi nếu bạn muốn tải một version khác\n",
        "model_uri = f\"models:/{model_name}/{model_version}\"\n",
        "\n",
        "# Tải mô hình\n",
        "loaded_model = mlflow.spark.load_model(model_uri)\n",
        "\n",
        "# Dự đoán trên dữ liệu mới\n",
        "new_texts = [\n",
        "    \"I absolutely love this phone! The camera is amazing and the battery lasts all day.\",\n",
        "    \"The customer service from this brand is terrible. My issue has not been resolved for weeks.\",\n",
        "    \"This laptop is solid and reliable, but it's a bit expensive for the performance it offers.\",\n",
        "    \"I had a terrible experience with this brand. Their products broke down after just a few months.\",\n",
        "    \"The quality of the shoes from this brand has improved significantly. They are comfortable and durable.\"\n",
        "]\n",
        "\n",
        "# Tạo DataFrame Spark từ danh sách văn bản mới\n",
        "new_data = [Row(Text=text) for text in new_texts]\n",
        "new_df = spark.createDataFrame(new_data)\n",
        "\n",
        "# Dự đoán với mô hình đã tải\n",
        "predictions_new = loaded_model.transform(new_df)\n",
        "\n",
        "# Ánh xạ các nhãn prediction thành các giá trị tương ứng\n",
        "predictions_new_mapped = predictions_new.withColumn(\n",
        "    \"Label\",\n",
        "    when(col(\"prediction\") == 0, \"Negative\")\n",
        "    .when(col(\"prediction\") == 1, \"Positive\")\n",
        "    .when(col(\"prediction\") == 2, \"Neutral\")\n",
        "    .when(col(\"prediction\") == 3, \"Irrelevant\")\n",
        "    .otherwise(\"Unknown\")  # fallback nếu có nhãn lạ\n",
        ")\n",
        "\n",
        "# Hiển thị kết quả dự đoán với nhãn ánh xạ\n",
        "predictions_new_mapped.select(\"Text\", \"prediction\", \"Label\").show(truncate=False)\n",
        "\n",
        "# Nếu bạn muốn lưu lại các dự đoán vào DataFrame và sử dụng sau này:\n",
        "predictions_df = predictions_new_mapped.select(\"Text\", \"prediction\", \"Label\").toPandas()\n",
        "print(predictions_df)\n"
      ],
      "metadata": {
        "colab": {
          "base_uri": "https://localhost:8080/",
          "height": 361,
          "referenced_widgets": [
            "880f1e838f9340f09a347d38c108452d",
            "b198d6d98c9b4857a29a4f714c6cde65",
            "7784363ece96429491b4f97bc3ffd23c",
            "6e19414b089e425281050861d2f060ec",
            "6e05bdaf60e44f4da2fa64cb00659bb6",
            "a8a3e8f6fea94653bcab0b2bafa8dac2",
            "9fb6bfe36e8b4847bcc67f7528a16a03",
            "e6a2f0815ff347b9a39661a8bb6097b7",
            "5d7eabc863a3453294e3aac0a5bf03cf",
            "99a2f489a60b483b940076b7a58f754e",
            "7f00942a80ef4a58a4c310d09670bb26"
          ]
        },
        "id": "__hPPU9OqOSI",
        "outputId": "91144cf7-4976-45e1-f2fc-d8b597bc3518"
      },
      "execution_count": null,
      "outputs": [
        {
          "output_type": "display_data",
          "data": {
            "text/plain": [
              "Downloading artifacts:   0%|          | 0/32 [00:00<?, ?it/s]"
            ],
            "application/vnd.jupyter.widget-view+json": {
              "version_major": 2,
              "version_minor": 0,
              "model_id": "880f1e838f9340f09a347d38c108452d"
            }
          },
          "metadata": {}
        },
        {
          "output_type": "stream",
          "name": "stderr",
          "text": [
            "2025/04/21 04:44:33 INFO mlflow.spark: URI 'models:/LogisticRegression_TFIDF_Model/1/sparkml' does not point to the current DFS.\n",
            "2025/04/21 04:44:33 INFO mlflow.spark: File 'models:/LogisticRegression_TFIDF_Model/1/sparkml' not found on DFS. Will attempt to upload the file.\n"
          ]
        },
        {
          "output_type": "stream",
          "name": "stdout",
          "text": [
            "+------------------------------------------------------------------------------------------------------+----------+--------+\n",
            "|Text                                                                                                  |prediction|Label   |\n",
            "+------------------------------------------------------------------------------------------------------+----------+--------+\n",
            "|I absolutely love this phone! The camera is amazing and the battery lasts all day.                    |1.0       |Positive|\n",
            "|The customer service from this brand is terrible. My issue has not been resolved for weeks.           |0.0       |Negative|\n",
            "|This laptop is solid and reliable, but it's a bit expensive for the performance it offers.            |0.0       |Negative|\n",
            "|I had a terrible experience with this brand. Their products broke down after just a few months.       |0.0       |Negative|\n",
            "|The quality of the shoes from this brand has improved significantly. They are comfortable and durable.|2.0       |Neutral |\n",
            "+------------------------------------------------------------------------------------------------------+----------+--------+\n",
            "\n",
            "                                                Text  prediction     Label\n",
            "0  I absolutely love this phone! The camera is am...         1.0  Positive\n",
            "1  The customer service from this brand is terrib...         0.0  Negative\n",
            "2  This laptop is solid and reliable, but it's a ...         0.0  Negative\n",
            "3  I had a terrible experience with this brand. T...         0.0  Negative\n",
            "4  The quality of the shoes from this brand has i...         2.0   Neutral\n"
          ]
        }
      ]
    },
    {
      "cell_type": "code",
      "source": [
        "def evaluate_model(predictions, model_name=\"\"):\n",
        "    evaluator = MulticlassClassificationEvaluator(labelCol=\"Label\", predictionCol=\"prediction\")\n",
        "\n",
        "    accuracy = evaluator.evaluate(predictions, {evaluator.metricName: \"accuracy\"})\n",
        "    precision = evaluator.evaluate(predictions, {evaluator.metricName: \"weightedPrecision\"})\n",
        "    recall = evaluator.evaluate(predictions, {evaluator.metricName: \"weightedRecall\"})\n",
        "    f1 = evaluator.evaluate(predictions, {evaluator.metricName: \"f1\"})\n",
        "\n",
        "    print(f\"Accuracy:  {accuracy:.4f}\")\n",
        "    print(f\"Precision: {precision:.4f}\")\n",
        "    print(f\"Recall:    {recall:.4f}\")\n",
        "    print(f\"F1-score:  {f1:.4f}\")\n",
        "\n",
        "    # Log các metric vào MLflow\n",
        "    # mlflow.log_metric(f\"{model_name}accuracy\", accuracy)\n",
        "    # mlflow.log_metric(f\"{model_name}_precision\", precision)\n",
        "    # mlflow.log_metric(f\"{model_name}_recall\", recall)\n",
        "    # mlflow.log_metric(f\"{model_name}_f1_score\", f1)\n",
        "    mlflow.log_metric(f\"accuracy\", accuracy)\n",
        "    mlflow.log_metric(f\"precision\", precision)\n",
        "    mlflow.log_metric(f\"recall\", recall)\n",
        "    mlflow.log_metric(f\"f1_score\", f1)\n",
        "\n"
      ],
      "metadata": {
        "id": "GfhQZuUMF6r0"
      },
      "execution_count": null,
      "outputs": []
    },
    {
      "cell_type": "code",
      "source": [
        "with mlflow.start_run(run_name=\"LogisticRegression_IDF_TF_Model\") as run:\n",
        "    model2 = pipeline.fit(train_data)\n",
        "    prediction2 = model2.transform(test_data)\n",
        "\n",
        "    mlflow.spark.log_model(\n",
        "        spark_model=model2,\n",
        "        artifact_path=\"spark-model\",\n",
        "        registered_model_name=\"LogReg_TFIDF\"\n",
        "    )\n",
        "\n",
        "    mlflow.log_param(\"maxIter\", 20)\n",
        "    mlflow.log_param(\"numFeatures\", 10000)\n",
        "\n",
        "    evaluate_model(prediction2, model_name=\"idf_tf\")\n",
        "\n",
        "with mlflow.start_run(run_name=\"LogisticRegression_CountVector_Model\") as run:\n",
        "    model1 = pipeline.fit(train_data)\n",
        "    prediction1 = model1.transform(test_data)\n",
        "\n",
        "\n",
        "    mlflow.spark.log_model(\n",
        "        spark_model=model1,\n",
        "        artifact_path=\"spark-model\",\n",
        "        registered_model_name=\"LogReg_CountVector\"\n",
        "    )\n",
        "\n",
        "    mlflow.log_param(\"maxIter\", 20)\n",
        "\n",
        "    evaluate_model(prediction1, model_name=\"count_vector\")\n"
      ],
      "metadata": {
        "colab": {
          "base_uri": "https://localhost:8080/"
        },
        "id": "caF33bu0GQQ1",
        "outputId": "6496c3ff-2563-4171-cd8a-983cf07e9d55"
      },
      "execution_count": null,
      "outputs": [
        {
          "output_type": "stream",
          "name": "stderr",
          "text": [
            "\u001b[31m2025/04/22 10:57:38 WARNING mlflow.models.model: Model logged without a signature and input example. Please set `input_example` parameter when logging the model to auto infer the model signature.\u001b[0m\n",
            "Successfully registered model 'LogReg_TFIDF'.\n",
            "2025/04/22 10:58:11 INFO mlflow.store.model_registry.abstract_store: Waiting up to 300 seconds for model version to finish creation. Model name: LogReg_TFIDF, version 1\n",
            "Created version '1' of model 'LogReg_TFIDF'.\n"
          ]
        },
        {
          "output_type": "stream",
          "name": "stdout",
          "text": [
            "Accuracy:  0.7340\n",
            "Precision: 0.7343\n",
            "Recall:    0.7340\n",
            "F1-score:  0.7335\n",
            "🏃 View run LogisticRegression_IDF_TF_Model at: https://dagshub.com/TranChucThien/kltn.mlflow/#/experiments/0/runs/bf7196d5adf64d6aafaee6df5b207077\n",
            "🧪 View experiment at: https://dagshub.com/TranChucThien/kltn.mlflow/#/experiments/0\n"
          ]
        },
        {
          "output_type": "stream",
          "name": "stderr",
          "text": [
            "\u001b[31m2025/04/22 10:59:36 WARNING mlflow.models.model: Model logged without a signature and input example. Please set `input_example` parameter when logging the model to auto infer the model signature.\u001b[0m\n",
            "Successfully registered model 'LogReg_CountVector'.\n",
            "2025/04/22 11:00:09 INFO mlflow.store.model_registry.abstract_store: Waiting up to 300 seconds for model version to finish creation. Model name: LogReg_CountVector, version 1\n",
            "Created version '1' of model 'LogReg_CountVector'.\n"
          ]
        },
        {
          "output_type": "stream",
          "name": "stdout",
          "text": [
            "Accuracy:  0.7340\n",
            "Precision: 0.7343\n",
            "Recall:    0.7340\n",
            "F1-score:  0.7335\n",
            "🏃 View run LogisticRegression_CountVector_Model at: https://dagshub.com/TranChucThien/kltn.mlflow/#/experiments/0/runs/945402e5cc7d4d54825c9889c671c117\n",
            "🧪 View experiment at: https://dagshub.com/TranChucThien/kltn.mlflow/#/experiments/0\n"
          ]
        }
      ]
    }
  ]
}